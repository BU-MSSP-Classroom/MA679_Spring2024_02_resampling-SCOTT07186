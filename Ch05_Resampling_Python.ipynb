{
 "cells": [
  {
   "cell_type": "markdown",
   "id": "ac385101",
   "metadata": {},
   "source": [
    "# Class Workbook"
   ]
  },
  {
   "cell_type": "markdown",
   "id": "7d865134",
   "metadata": {},
   "source": [
    "## In class activity"
   ]
  },
  {
   "cell_type": "code",
   "execution_count": 1,
   "id": "194cc60b",
   "metadata": {
    "kernel": "Python3",
    "tags": [
     "report_cell"
    ]
   },
   "outputs": [],
   "source": [
    "import numpy as np\n",
    "import pandas as pd\n",
    "import math\n",
    "#import statsmodels.api as sm\n",
    "from plotnine import *\n",
    "import statsmodels.formula.api as sm\n",
    "from ISLP import load_data\n",
    "from ISLP.models import (ModelSpec as MS,\n",
    "                        summarize ,\n",
    "                        poly)"
   ]
  },
  {
   "cell_type": "code",
   "execution_count": 2,
   "id": "30bb0dff",
   "metadata": {},
   "outputs": [
    {
     "name": "stdout",
     "output_type": "stream",
     "text": [
      "  default student      balance        income\n",
      "0      No      No   729.526495  44361.625074\n",
      "1      No     Yes   817.180407  12106.134700\n",
      "2      No      No  1073.549164  31767.138947\n",
      "3      No      No   529.250605  35704.493935\n",
      "4      No      No   785.655883  38463.495879\n"
     ]
    }
   ],
   "source": [
    "import statsmodels.api as sm\n",
    "dataset = sm.datasets.get_rdataset('Default', 'ISLR')\n",
    "print(dataset.data.head())"
   ]
  },
  {
   "cell_type": "markdown",
   "id": "d786799d",
   "metadata": {},
   "source": [
    "### Ames House Data"
   ]
  },
  {
   "cell_type": "code",
   "execution_count": 3,
   "id": "e1f933c5",
   "metadata": {
    "kernel": "Python3",
    "tags": [
     "report_cell"
    ]
   },
   "outputs": [],
   "source": [
    "ames_raw=pd.read_csv(\"ames_raw.csv\")"
   ]
  },
  {
   "cell_type": "markdown",
   "id": "837bd901",
   "metadata": {},
   "source": [
    "Let's revisit the AmesHousing data.  As we did in the previous class, I will split the data into before 2008 and after.  The data up to 2008 will be the training data and after 2008 will be the testing data."
   ]
  },
  {
   "cell_type": "code",
   "execution_count": 4,
   "id": "67c2a208",
   "metadata": {
    "kernel": "Python3",
    "tags": [
     "report_cell"
    ]
   },
   "outputs": [],
   "source": [
    "ames_raw_2009, ames_raw_2008= ames_raw.query('`Yr Sold`>=2008').copy(), ames_raw.query('`Yr Sold` <2008').copy()"
   ]
  },
  {
   "cell_type": "markdown",
   "id": "ae8516aa",
   "metadata": {},
   "source": [
    "* For the regression model fit, use bootstrap to compare the standard error estimates to the model based estimates.\n",
    "\n",
    "\n",
    "Your code:"
   ]
  },
  {
   "cell_type": "code",
   "execution_count": 5,
   "id": "5f2fafbb",
   "metadata": {
    "Rmd_chunk_options": "echo=TRUE",
    "kernel": "Python3",
    "tags": [
     "report_cell"
    ]
   },
   "outputs": [],
   "source": [
    "X = ames_raw_2008[['Lot Area', 'Overall Qual',\n",
    "       'Overall Cond', 'Year Built', 'Year Remod/Add', '1st Flr SF',\n",
    "       '2nd Flr SF', 'Low Qual Fin SF', 'Gr Liv Area', 'Full Bath',\n",
    "       'Half Bath', 'Bedroom AbvGr', 'Kitchen AbvGr', 'TotRms AbvGrd',\n",
    "       'Fireplaces', 'Wood Deck SF', 'Open Porch SF', 'Enclosed Porch',\n",
    "       '3Ssn Porch', 'Screen Porch', 'Pool Area', 'Misc Val', 'Mo Sold',\n",
    "       'Yr Sold']]\n",
    "\n",
    "Y = ames_raw_2008['SalePrice']\n",
    "\n",
    "\n",
    "reg_2008 = sm.OLS(Y, sm.add_constant(X)).fit()\n",
    "\n",
    "sample_iter = 1000\n",
    "bootstrap_se = np.ndarray((sample_iter, len(reg_2008.params)))\n",
    "\n",
    "for i in range(sample_iter):\n",
    "    bs_sample = X.sample(frac = 0.5, replace = True)\n",
    "    bs_fit = sm.OLS(Y.loc[bs_sample.index], sm.add_constant(bs_sample)).fit()\n",
    "    bootstrap_se[i] = bs_fit.bse\n",
    "\n",
    "bootstrap_avg_se = bootstrap_se.mean(axis = 0)\n",
    "\n",
    "print(f'model_base = \\n{reg_2008.bse}')"
   ]
  },
  {
   "cell_type": "markdown",
   "id": "c3e8bb5d",
   "metadata": {},
   "source": [
    "\n",
    "\n",
    "* Use cross validation  to decide which model has a good predictive accuracy.  Does the result hold true for the prediction of future data?\n",
    "\n",
    "Your code:"
   ]
  },
  {
   "cell_type": "code",
   "execution_count": 12,
   "id": "2fa22fc7",
   "metadata": {
    "Rmd_chunk_options": "echo=TRUE",
    "kernel": "Python3",
    "tags": [
     "report_cell"
    ]
   },
   "outputs": [
    {
     "data": {
      "text/plain": [
       "(                           RMSE\n",
       " Linear Regression  56565.659768\n",
       " Decision Tree      79720.313636,\n",
       " 'Linear Regression',\n",
       " 57086.841542274924)"
      ]
     },
     "execution_count": 12,
     "metadata": {},
     "output_type": "execute_result"
    }
   ],
   "source": [
    "from sklearn.model_selection import cross_val_score\n",
    "from sklearn.linear_model import LinearRegression\n",
    "from sklearn.tree import DecisionTreeRegressor\n",
    "from sklearn.metrics import mean_squared_error\n",
    "\n",
    "ames_raw_2008_renamed = ames_raw_2008.rename(columns=lambda x: x.replace(' ', '_'))\n",
    "ames_raw_2009_renamed = ames_raw_2009.rename(columns=lambda x: x.replace(' ', '_'))\n",
    "\n",
    "\n",
    "X_train = ames_raw_2008_renamed[['Gr_Liv_Area']]\n",
    "y_train = ames_raw_2008_renamed['SalePrice']\n",
    "X_test = ames_raw_2009_renamed[['Gr_Liv_Area']]\n",
    "y_test = ames_raw_2009_renamed['SalePrice']\n",
    "\n",
    "\n",
    "models = {\n",
    "    \"Linear Regression\": LinearRegression(),\n",
    "    \"Decision Tree\": DecisionTreeRegressor()\n",
    "}\n",
    "\n",
    "# Cross-validation settings\n",
    "k = 10  # Number of folds\n",
    "cv_scores = {}\n",
    "\n",
    "# Perform k-fold cross-validation for each model\n",
    "for name, model in models.items():\n",
    "    scores = cross_val_score(model, X_train, y_train, cv=k, scoring='neg_mean_squared_error')\n",
    "    cv_scores[name] = np.mean(np.sqrt(-scores))\n",
    "\n",
    "# Evaluate performance based on cross-validation results\n",
    "cv_results = pd.DataFrame(cv_scores, index=[\"RMSE\"]).T.sort_values(by=\"RMSE\", ascending=True)\n",
    "\n",
    "# Testing the best model on future data (2009 data)\n",
    "best_model_name = cv_results.index[0]\n",
    "best_model = models[best_model_name]\n",
    "best_model.fit(X_train, y_train)\n",
    "y_pred = best_model.predict(X_test)\n",
    "test_rmse = np.sqrt(mean_squared_error(y_test, y_pred))\n",
    "\n",
    "cv_results, best_model_name, test_rmse"
   ]
  },
  {
   "cell_type": "markdown",
   "id": "ee392923",
   "metadata": {},
   "source": [
    "Your answer:\n",
    "\n",
    "~~~\n",
    "Yes, the result holds true for the prediction of future data.\n",
    "~~~\n",
    "\n",
    "\n",
    "* Using `knn.reg` fit KNN regression model.  Use cross validation to decide which K to use.\n",
    "\n",
    "Your code:"
   ]
  },
  {
   "cell_type": "code",
   "execution_count": 13,
   "id": "54c21c64",
   "metadata": {
    "Rmd_chunk_options": "echo=TRUE",
    "kernel": "Python3",
    "tags": [
     "report_cell"
    ]
   },
   "outputs": [
    {
     "data": {
      "text/plain": [
       "(30, 58214.514215851814)"
      ]
     },
     "execution_count": 13,
     "metadata": {},
     "output_type": "execute_result"
    }
   ],
   "source": [
    "#Using `knn.reg` fit KNN regression model\n",
    "from sklearn.neighbors import KNeighborsRegressor\n",
    "from sklearn.model_selection import GridSearchCV\n",
    "\n",
    "X_train = ames_raw_2008_renamed[['Gr_Liv_Area']]\n",
    "y_train = ames_raw_2008_renamed['SalePrice']\n",
    "\n",
    "k_range = range(1, 31)\n",
    "\n",
    "\n",
    "knn = KNeighborsRegressor()\n",
    "param_grid = {'n_neighbors': k_range}\n",
    "grid = GridSearchCV(knn, param_grid, cv=10, scoring='neg_mean_squared_error')\n",
    "\n",
    "grid.fit(X_train, y_train)\n",
    "\n",
    "\n",
    "best_k = grid.best_params_['n_neighbors']\n",
    "best_score = np.sqrt(-grid.best_score_)\n",
    "\n",
    "best_k, best_score\n",
    "\n"
   ]
  },
  {
   "cell_type": "markdown",
   "id": "e116dea8",
   "metadata": {},
   "source": [
    "Your answer:\n",
    "\n",
    "~~~\n",
    "K=30 is the best K to use.\n",
    "~~~\n",
    "\n",
    "\n",
    "* Which model performs better on your training data?  Which model performs better in your future prediction?\n",
    "\n",
    "Your code:"
   ]
  },
  {
   "cell_type": "code",
   "execution_count": 14,
   "id": "1b41a25c",
   "metadata": {
    "Rmd_chunk_options": "echo=TRUE",
    "kernel": "Python3",
    "tags": [
     "report_cell"
    ]
   },
   "outputs": [
    {
     "data": {
      "text/html": [
       "<div>\n",
       "<style scoped>\n",
       "    .dataframe tbody tr th:only-of-type {\n",
       "        vertical-align: middle;\n",
       "    }\n",
       "\n",
       "    .dataframe tbody tr th {\n",
       "        vertical-align: top;\n",
       "    }\n",
       "\n",
       "    .dataframe thead th {\n",
       "        text-align: right;\n",
       "    }\n",
       "</style>\n",
       "<table border=\"1\" class=\"dataframe\">\n",
       "  <thead>\n",
       "    <tr style=\"text-align: right;\">\n",
       "      <th></th>\n",
       "      <th>Cross-Validation RMSE</th>\n",
       "      <th>Test RMSE (2009)</th>\n",
       "    </tr>\n",
       "    <tr>\n",
       "      <th>Model</th>\n",
       "      <th></th>\n",
       "      <th></th>\n",
       "    </tr>\n",
       "  </thead>\n",
       "  <tbody>\n",
       "    <tr>\n",
       "      <th>Linear Regression</th>\n",
       "      <td>56565.659768</td>\n",
       "      <td>57086.841542</td>\n",
       "    </tr>\n",
       "    <tr>\n",
       "      <th>KNN (K=30)</th>\n",
       "      <td>56953.640724</td>\n",
       "      <td>57145.894953</td>\n",
       "    </tr>\n",
       "  </tbody>\n",
       "</table>\n",
       "</div>"
      ],
      "text/plain": [
       "                   Cross-Validation RMSE  Test RMSE (2009)\n",
       "Model                                                     \n",
       "Linear Regression           56565.659768      57086.841542\n",
       "KNN (K=30)                  56953.640724      57145.894953"
      ]
     },
     "execution_count": 14,
     "metadata": {},
     "output_type": "execute_result"
    }
   ],
   "source": [
    "# Linear Regression\n",
    "lin_reg = LinearRegression()\n",
    "lin_reg_cv_score = np.mean(np.sqrt(-cross_val_score(lin_reg, X_train, y_train, cv=10, scoring='neg_mean_squared_error')))\n",
    "lin_reg.fit(X_train, y_train)\n",
    "lin_reg_test_rmse = np.sqrt(mean_squared_error(y_test, lin_reg.predict(X_test)))\n",
    "\n",
    "\n",
    "# K-Nearest Neighbors with K=30\n",
    "knn_best = KNeighborsRegressor(n_neighbors=best_k)\n",
    "knn_best_cv_score = np.mean(np.sqrt(-cross_val_score(knn_best, X_train, y_train, cv=10, scoring='neg_mean_squared_error')))\n",
    "knn_best.fit(X_train, y_train)\n",
    "knn_best_test_rmse = np.sqrt(mean_squared_error(y_test, knn_best.predict(X_test)))\n",
    "\n",
    "# Compile the results\n",
    "model_performance = pd.DataFrame({\n",
    "    \"Model\": [\"Linear Regression\", \"KNN (K=30)\"],\n",
    "    \"Cross-Validation RMSE\": [lin_reg_cv_score, knn_best_cv_score],\n",
    "    \"Test RMSE (2009)\": [lin_reg_test_rmse, knn_best_test_rmse]\n",
    "}).set_index(\"Model\").sort_values(by=\"Cross-Validation RMSE\")\n",
    "\n",
    "model_performance"
   ]
  },
  {
   "cell_type": "markdown",
   "id": "adf13891",
   "metadata": {},
   "source": [
    "Your answer:\n",
    "\n",
    "~~~\n",
    "Linear regression model performs better on the training data. KNN regression model performs better in the future prediction.\n",
    "~~~"
   ]
  },
  {
   "cell_type": "markdown",
   "id": "75b49db5",
   "metadata": {},
   "source": [
    "## Problem Set"
   ]
  },
  {
   "cell_type": "markdown",
   "id": "3e1e310f",
   "metadata": {},
   "source": [
    "### Bootstrap\n",
    "\n",
    "We will now investigate numerically the probability that a bootstrap sample of size n = 100 contains the jth observation. Here j = 4. We first create an array store with values that will subsequently\n",
    "be overwritten using the function np.empty(). We then repeatedly create bootstrap samples, and each time we record whether or not the fifth observation is contained in the bootstrap\n",
    "sample.\n",
    "\n",
    "We will investigate numerically the probability that a bootstrap sample of size n = 100 contains the jth observation. Here j = 4. We repeatedly create bootstrap samples, and each time\n",
    "we record whether or not the fourth observation is contained in the bootstrap sample.\n",
    "\n",
    "Here is the code to get you going"
   ]
  },
  {
   "cell_type": "code",
   "execution_count": 15,
   "id": "275e75fd",
   "metadata": {
    "Rmd_chunk_options": "echo =TRUE,eval=FALSE",
    "kernel": "Python3",
    "tags": [
     "report_cell"
    ]
   },
   "outputs": [
    {
     "data": {
      "text/plain": [
       "0.6362"
      ]
     },
     "execution_count": 15,
     "metadata": {},
     "output_type": "execute_result"
    }
   ],
   "source": [
    "rng = np.random.default_rng (10)\n",
    "store = np.empty (10000)\n",
    "for i in range (10000):\n",
    "    store[i] = np.sum(rng.choice(100, 100, replace=True) == 4) > 0\n",
    "\n",
    "\n",
    "np.mean(store)"
   ]
  },
  {
   "cell_type": "markdown",
   "id": "aa96d784",
   "metadata": {},
   "source": [
    "Comment on the results obtained.\n",
    "\n",
    "\n",
    "Your code:"
   ]
  },
  {
   "cell_type": "markdown",
   "id": "ce1a4875",
   "metadata": {},
   "source": [
    "Your answer:\n",
    "\n",
    "~~~\n",
    "The mean value obtained is 0.6362, indicating that in approximately 63.62% of the trials, the number 4 was selected at least once when drawing 100 numbers between 0 and 99 with replacement.\n",
    "~~~"
   ]
  },
  {
   "cell_type": "markdown",
   "id": "ca9da176",
   "metadata": {},
   "source": [
    "### CV\n",
    "\n",
    "We will now perform cross-validation on a simulated data set.\n",
    "(a) Generate a simulated data set as follows:"
   ]
  },
  {
   "cell_type": "code",
   "execution_count": 16,
   "id": "269de067",
   "metadata": {
    "Rmd_chunk_options": "eval=FALSE, echo =TRUE",
    "kernel": "Python3",
    "tags": [
     "report_cell"
    ]
   },
   "outputs": [],
   "source": [
    "rng = np.random.default_rng(1)\n",
    "x = rng.normal(size=100)\n",
    "y = x - 2 * x**2 + rng.normal(size=100)"
   ]
  },
  {
   "cell_type": "markdown",
   "id": "a7051ad7",
   "metadata": {},
   "source": [
    "In this data set, what is n and what is p? Write out the model\n",
    "used to generate the data in equation form.\n",
    "\n",
    "\n",
    "Your code:"
   ]
  },
  {
   "cell_type": "markdown",
   "id": "48cab751",
   "metadata": {},
   "source": [
    "Your answer:\n",
    "\n",
    "~~~\n",
    "n = 100, p = 1\n",
    "Y=-2X^2+X+ϵ\n",
    "~~~\n",
    "\n",
    "\n",
    "(b) Create a scatterplot of X against Y . Comment on what you find.\n",
    "\n",
    "\n",
    "Your code:"
   ]
  },
  {
   "cell_type": "code",
   "execution_count": 17,
   "id": "3f195ab3",
   "metadata": {
    "Rmd_chunk_options": "echo=TRUE",
    "kernel": "Python3",
    "tags": [
     "report_cell"
    ]
   },
   "outputs": [
    {
     "data": {
      "image/png": "[encoded data removed]",
      "text/plain": [
       "<Figure size 1500x800 with 1 Axes>"
      ]
     },
     "metadata": {},
     "output_type": "display_data"
    }
   ],
   "source": [
    "import matplotlib.pyplot as plt\n",
    "import seaborn as sns\n",
    "\n",
    "\n",
    "fig = plt.figure(figsize=(15, 8))\n",
    "\n",
    "sns.scatterplot(x=x, y=y, color='g', s=60, edgecolor='black')\n",
    "plt.title('Scatter plot of x and y', fontsize=20)\n",
    "plt.xlabel('x', fontsize=15)\n",
    "plt.ylabel('y', fontsize=15)\n",
    "plt.grid(True)\n",
    "plt.show()"
   ]
  },
  {
   "cell_type": "markdown",
   "id": "ef692fff",
   "metadata": {},
   "source": [
    "Your answer:\n",
    "\n",
    "~~~\n",
    "It is a quadratic relationship between X and Y.\n",
    "~~~\n",
    "\n",
    "(c) Set a random seed, and then compute the LOOCV errors that result from fitting the following four models using least squares:\n",
    "\n",
    "i.   $Y = \\beta_0 + \\beta_1X + \\epsilon$\n",
    "ii.  $Y = \\beta_0 + \\beta_1X + \\beta_2X^2 + \\epsilon$\n",
    "iii. $Y = \\beta_0 + \\beta_1X + \\beta_2X^2 + \\beta_3X^3 + \\epsilon$\n",
    "iv.  $Y = \\beta_0 + \\beta_1X + \\beta_2X^2 + \\beta_3X^3 + \\beta_4X^4 + \\epsilon$.\n",
    "\n",
    "Note you may find it helpful to use the `data.frame()` function\n",
    "to create a single data set containing both $X$ and $Y$ .\n",
    "\n",
    "\n",
    "Your code:"
   ]
  },
  {
   "cell_type": "code",
   "execution_count": 18,
   "id": "45208594",
   "metadata": {
    "Rmd_chunk_options": "echo=TRUE",
    "kernel": "Python3",
    "tags": [
     "report_cell"
    ]
   },
   "outputs": [
    {
     "name": "stdout",
     "output_type": "stream",
     "text": [
      "LOOCV error for degree 1: 6.633029839181983\n",
      "LOOCV error for degree 2: 1.1233933780704088\n",
      "LOOCV error for degree 3: 1.301796548935887\n",
      "LOOCV error for degree 4: 1.332394269417932\n"
     ]
    }
   ],
   "source": [
    "from sklearn.linear_model import LinearRegression\n",
    "from sklearn.preprocessing import PolynomialFeatures\n",
    "from sklearn.pipeline import make_pipeline\n",
    "\n",
    "degrees = [1, 2, 3, 4]\n",
    "rng = np.random.default_rng(1)\n",
    "x = rng.normal(size=100)\n",
    "y = x - 2 * x**2 + rng.normal(size=100)\n",
    "\n",
    "for degree in degrees:\n",
    "    model = make_pipeline(PolynomialFeatures(degree), LinearRegression(fit_intercept = False))\n",
    "    scores = cross_val_score(model, sm.add_constant(x), y, cv=x.shape[0], scoring='neg_mean_squared_error')\n",
    "    print(f'LOOCV error for degree {degree}: {-scores.mean()}')"
   ]
  },
  {
   "cell_type": "markdown",
   "id": "26dae8c9",
   "metadata": {},
   "source": [
    "\n",
    "\n",
    "\n",
    "(d) Repeat (c) using another random seed, and report your results.\n",
    "Are your results the same as what you got in (c)? Why?\n",
    "\n",
    "Your code:"
   ]
  },
  {
   "cell_type": "code",
   "execution_count": 19,
   "id": "4fcf9ba9",
   "metadata": {
    "Rmd_chunk_options": "echo=TRUE",
    "kernel": "Python3",
    "tags": [
     "report_cell"
    ]
   },
   "outputs": [
    {
     "name": "stdout",
     "output_type": "stream",
     "text": [
      "LOOCV error for degree 1: 10.483305737774351\n",
      "LOOCV error for degree 2: 1.2428542564621219\n",
      "LOOCV error for degree 3: 1.2226744194183772\n",
      "LOOCV error for degree 4: 1.2503746493358223\n"
     ]
    }
   ],
   "source": [
    "degrees = [1, 2, 3, 4]\n",
    "rng = np.random.default_rng(1111)\n",
    "x = rng.normal(size=100)\n",
    "y = x - 2 * x**2 + rng.normal(size=100)\n",
    "# For each degree, fit the model and compute the LOOCV error\n",
    "for degree in degrees:\n",
    "    model = make_pipeline(PolynomialFeatures(degree), LinearRegression(fit_intercept = False))\n",
    "    scores = cross_val_score(model, sm.add_constant(x), y, cv=x.shape[0], scoring='neg_mean_squared_error')\n",
    "    print(f'LOOCV error for degree {degree}: {-scores.mean()}')"
   ]
  },
  {
   "cell_type": "markdown",
   "id": "1b1c1120",
   "metadata": {},
   "source": [
    "Your answer:\n",
    "\n",
    "~~~\n",
    "No, the results are not the same as what I got in (c). The LOOCV errors are different because the random seed is different.\n",
    "~~~\n",
    "\n",
    "(e) Which of the models in (c) had the smallest LOOCV error? Is this what you expected? Explain your answer.\n"
   ]
  },
  {
   "cell_type": "markdown",
   "id": "6301a74c",
   "metadata": {},
   "source": [
    "Your answer:\n",
    "\n",
    "~~~\n",
    "degree 2: 1.1229717255391554\n",
    "Yes, this is what I expected. The true relationship between X and Y is quadratic.\n",
    "~~~\n",
    "\n",
    "\n",
    "(f) Comment on the statistical significance of the coefficient estimates that results from fitting each of the models in (c) using least squares. Do these results agree with the conclusions drawn based on the cross-validation results?\n",
    "\n",
    "\n",
    "Your code:"
   ]
  },
  {
   "cell_type": "code",
   "execution_count": 20,
   "id": "d84ba43e",
   "metadata": {
    "Rmd_chunk_options": "echo=TRUE",
    "kernel": "Python3",
    "tags": [
     "report_cell"
    ]
   },
   "outputs": [
    {
     "name": "stdout",
     "output_type": "stream",
     "text": [
      "                            OLS Regression Results                            \n",
      "==============================================================================\n",
      "Dep. Variable:                      y   R-squared:                       0.883\n",
      "Model:                            OLS   Adj. R-squared:                  0.876\n",
      "Method:                 Least Squares   F-statistic:                     141.2\n",
      "Date:                Sat, 03 Feb 2024   Prob (F-statistic):           4.10e-42\n",
      "Time:                        10:46:58   Log-Likelihood:                -149.14\n",
      "No. Observations:                 100   AIC:                             310.3\n",
      "Df Residuals:                      94   BIC:                             325.9\n",
      "Df Model:                           5                                         \n",
      "Covariance Type:            nonrobust                                         \n",
      "==============================================================================\n",
      "                 coef    std err          t      P>|t|      [0.025      0.975]\n",
      "------------------------------------------------------------------------------\n",
      "const          0.0232      0.156      0.148      0.883      -0.287       0.334\n",
      "x              0.9137      0.289      3.161      0.002       0.340       1.488\n",
      "x2            -2.0412      0.216     -9.470      0.000      -2.469      -1.613\n",
      "x3            -0.0385      0.204     -0.189      0.851      -0.444       0.367\n",
      "x4            -0.0027      0.035     -0.078      0.938      -0.072       0.067\n",
      "x5             0.0123      0.026      0.481      0.632      -0.039       0.063\n",
      "==============================================================================\n",
      "Omnibus:                        3.154   Durbin-Watson:                   2.210\n",
      "Prob(Omnibus):                  0.207   Jarque-Bera (JB):                2.645\n",
      "Skew:                          -0.389   Prob(JB):                        0.266\n",
      "Kurtosis:                       3.172   Cond. No.                         72.0\n",
      "==============================================================================\n",
      "\n",
      "Notes:\n",
      "[1] Standard Errors assume that the covariance matrix of the errors is correctly specified.\n"
     ]
    }
   ],
   "source": [
    "df = pd.DataFrame({'x':x, 'x2':x**2, 'x3':x**3, 'x4':x**4,'x5':x**5, 'y':y})\n",
    "\n",
    "X_ = df.loc[:, df.columns != 'y']\n",
    "X_ = sm.add_constant(X_, prepend=True)\n",
    "y_ = df['y']\n",
    "\n",
    "model = sm.OLS(y_, X_)\n",
    "result = model.fit()\n",
    "print(result.summary())"
   ]
  },
  {
   "cell_type": "markdown",
   "id": "26ea7d2f",
   "metadata": {},
   "source": [
    "Your answer:\n",
    "\n",
    "~~~\n",
    "Yes, the results agree with the conclusions drawn based on the cross-validation results. The coefficient estimates are statistically significant.\n",
    "~~~"
   ]
  },
  {
   "cell_type": "markdown",
   "id": "02963416",
   "metadata": {},
   "source": [
    "### Default 1\n",
    "\n",
    "In Chapter 4, we used logistic regression to predict the probability of default using income and balance on the `Default` data set. We will now estimate the test error of this logistic regression model using the validation set approach. Do not forget to set a random seed before beginning your analysis.\n",
    "\n",
    "(a) Fit a logistic regression model that uses income and balance to predict default.\n",
    "\n",
    "Your code:"
   ]
  },
  {
   "cell_type": "code",
   "execution_count": 34,
   "id": "75995a81",
   "metadata": {
    "Rmd_chunk_options": "echo=TRUE",
    "kernel": "Python3",
    "tags": [
     "report_cell"
    ]
   },
   "outputs": [
    {
     "data": {
      "text/html": [
       "<div>\n",
       "<style scoped>\n",
       "    .dataframe tbody tr th:only-of-type {\n",
       "        vertical-align: middle;\n",
       "    }\n",
       "\n",
       "    .dataframe tbody tr th {\n",
       "        vertical-align: top;\n",
       "    }\n",
       "\n",
       "    .dataframe thead th {\n",
       "        text-align: right;\n",
       "    }\n",
       "</style>\n",
       "<table border=\"1\" class=\"dataframe\">\n",
       "  <thead>\n",
       "    <tr style=\"text-align: right;\">\n",
       "      <th></th>\n",
       "      <th>default</th>\n",
       "      <th>student</th>\n",
       "      <th>balance</th>\n",
       "      <th>income</th>\n",
       "    </tr>\n",
       "  </thead>\n",
       "  <tbody>\n",
       "    <tr>\n",
       "      <th>0</th>\n",
       "      <td>No</td>\n",
       "      <td>No</td>\n",
       "      <td>729.526495</td>\n",
       "      <td>44361.625074</td>\n",
       "    </tr>\n",
       "    <tr>\n",
       "      <th>1</th>\n",
       "      <td>No</td>\n",
       "      <td>Yes</td>\n",
       "      <td>817.180407</td>\n",
       "      <td>12106.134700</td>\n",
       "    </tr>\n",
       "    <tr>\n",
       "      <th>2</th>\n",
       "      <td>No</td>\n",
       "      <td>No</td>\n",
       "      <td>1073.549164</td>\n",
       "      <td>31767.138947</td>\n",
       "    </tr>\n",
       "    <tr>\n",
       "      <th>3</th>\n",
       "      <td>No</td>\n",
       "      <td>No</td>\n",
       "      <td>529.250605</td>\n",
       "      <td>35704.493935</td>\n",
       "    </tr>\n",
       "    <tr>\n",
       "      <th>4</th>\n",
       "      <td>No</td>\n",
       "      <td>No</td>\n",
       "      <td>785.655883</td>\n",
       "      <td>38463.495879</td>\n",
       "    </tr>\n",
       "  </tbody>\n",
       "</table>\n",
       "</div>"
      ],
      "text/plain": [
       "  default student      balance        income\n",
       "0      No      No   729.526495  44361.625074\n",
       "1      No     Yes   817.180407  12106.134700\n",
       "2      No      No  1073.549164  31767.138947\n",
       "3      No      No   529.250605  35704.493935\n",
       "4      No      No   785.655883  38463.495879"
      ]
     },
     "execution_count": 34,
     "metadata": {},
     "output_type": "execute_result"
    }
   ],
   "source": [
    "#load the Default dataset from the ISLR package\n",
    "dataset = sm.datasets.get_rdataset('Default', 'ISLR')\n",
    "Default = dataset.data\n",
    "Default.head()\n"
   ]
  },
  {
   "cell_type": "code",
   "execution_count": 35,
   "id": "b646fc26",
   "metadata": {},
   "outputs": [
    {
     "name": "stdout",
     "output_type": "stream",
     "text": [
      "Optimization terminated successfully.\n",
      "         Current function value: 0.078948\n",
      "         Iterations 10\n",
      "                           Logit Regression Results                           \n",
      "==============================================================================\n",
      "Dep. Variable:                default   No. Observations:                10000\n",
      "Model:                          Logit   Df Residuals:                     9997\n",
      "Method:                           MLE   Df Model:                            2\n",
      "Date:                Sat, 03 Feb 2024   Pseudo R-squ.:                  0.4594\n",
      "Time:                        11:02:51   Log-Likelihood:                -789.48\n",
      "converged:                       True   LL-Null:                       -1460.3\n",
      "Covariance Type:            nonrobust   LLR p-value:                4.541e-292\n",
      "==============================================================================\n",
      "                 coef    std err          z      P>|z|      [0.025      0.975]\n",
      "------------------------------------------------------------------------------\n",
      "const        -11.5405      0.435    -26.544      0.000     -12.393     -10.688\n",
      "income      2.081e-05   4.99e-06      4.174      0.000     1.1e-05    3.06e-05\n",
      "balance        0.0056      0.000     24.835      0.000       0.005       0.006\n",
      "==============================================================================\n",
      "\n",
      "Possibly complete quasi-separation: A fraction 0.14 of observations can be\n",
      "perfectly predicted. This might indicate that there is complete\n",
      "quasi-separation. In this case some parameters will not be identified.\n"
     ]
    }
   ],
   "source": [
    "from statsmodels.api import Logit\n",
    "import statsmodels.api as sm\n",
    "Default['student'] = Default['student'].map({'Yes': 1, 'No': 0})\n",
    "Default['default'] = Default['default'].map({'Yes': 1, 'No': 0})\n",
    "X = Default[['income', 'balance']]\n",
    "X = sm.add_constant(X, prepend=True)\n",
    "y = Default['default']\n",
    "\n",
    "model = Logit(y, X)\n",
    "result = model.fit()\n",
    "print(result.summary())"
   ]
  },
  {
   "cell_type": "markdown",
   "id": "4cf78636",
   "metadata": {},
   "source": [
    "\n",
    "\n",
    "\n",
    "(b) Using the validation set approach, estimate the test error of this model. In order to do this, you must perform the following steps:\n",
    "\n",
    "i. Split the sample set into a training set and a validation set.\n",
    "\n",
    "Your code:"
   ]
  },
  {
   "cell_type": "code",
   "execution_count": 24,
   "id": "3b5e79ce",
   "metadata": {
    "Rmd_chunk_options": "echo=TRUE",
    "kernel": "Python3",
    "tags": [
     "report_cell"
    ]
   },
   "outputs": [],
   "source": [
    "from sklearn.model_selection import train_test_split\n",
    "# Using the validation set approach\n",
    "#Split into a training set and a validation set\n",
    "train, validation = train_test_split(Default, test_size=0.5)\n",
    "\n"
   ]
  },
  {
   "cell_type": "markdown",
   "id": "1c1d6cd6",
   "metadata": {},
   "source": [
    "\n",
    "\n",
    "ii. Fit a multiple logistic regression model using only the training observations.\n",
    "\n",
    "Your code:"
   ]
  },
  {
   "cell_type": "code",
   "execution_count": 30,
   "id": "4933acb7",
   "metadata": {
    "Rmd_chunk_options": "echo=TRUE",
    "kernel": "Python3",
    "tags": [
     "report_cell"
    ]
   },
   "outputs": [
    {
     "name": "stdout",
     "output_type": "stream",
     "text": [
      "Optimization terminated successfully.\n",
      "         Current function value: 0.073196\n",
      "         Iterations 10\n",
      "                           Logit Regression Results                           \n",
      "==============================================================================\n",
      "Dep. Variable:                default   No. Observations:                 5000\n",
      "Model:                          Logit   Df Residuals:                     4997\n",
      "Method:                           MLE   Df Model:                            2\n",
      "Date:                Sat, 03 Feb 2024   Pseudo R-squ.:                  0.4881\n",
      "Time:                        10:56:14   Log-Likelihood:                -365.98\n",
      "converged:                       True   LL-Null:                       -714.94\n",
      "Covariance Type:            nonrobust   LLR p-value:                2.803e-152\n",
      "==============================================================================\n",
      "                 coef    std err          z      P>|z|      [0.025      0.975]\n",
      "------------------------------------------------------------------------------\n",
      "const        -12.2088      0.671    -18.207      0.000     -13.523     -10.895\n",
      "income      2.273e-05   7.25e-06      3.137      0.002    8.53e-06    3.69e-05\n",
      "balance        0.0060      0.000     17.244      0.000       0.005       0.007\n",
      "==============================================================================\n",
      "\n",
      "Possibly complete quasi-separation: A fraction 0.18 of observations can be\n",
      "perfectly predicted. This might indicate that there is complete\n",
      "quasi-separation. In this case some parameters will not be identified.\n"
     ]
    }
   ],
   "source": [
    "# Fit a logistic regression model on the training set\n",
    "X_train = train[['income', 'balance']]\n",
    "X_train = sm.add_constant(X_train, prepend=True)\n",
    "y_train = train['default']\n",
    "model = Logit(y_train, X_train)\n",
    "result = model.fit()\n",
    "print(result.summary())\n"
   ]
  },
  {
   "cell_type": "markdown",
   "id": "d0e17ef7",
   "metadata": {},
   "source": [
    "\n",
    "\n",
    "\n",
    "iii. Obtain a prediction of default status for each individual in the validation set by computing the posterior probability of default for that individual, and classifying the individual to the default category if the posterior probability is greater than 0.5.\n",
    "\n",
    "\n",
    "Your code:"
   ]
  },
  {
   "cell_type": "code",
   "execution_count": 31,
   "id": "2337c08a",
   "metadata": {
    "Rmd_chunk_options": "echo=TRUE",
    "kernel": "Python3",
    "tags": [
     "report_cell"
    ]
   },
   "outputs": [],
   "source": [
    "# Make predictions on the validation set\n",
    "X_validation = validation[['income', 'balance']]\n",
    "X_validation = sm.add_constant(X_validation, prepend=True)\n",
    "y_validation = validation['default']\n",
    "y_pred = result.predict(X_validation)\n",
    "y_pred_binary = (y_pred > 0.5).astype(int)\n",
    "\n"
   ]
  },
  {
   "cell_type": "markdown",
   "id": "05db2665",
   "metadata": {},
   "source": [
    "\n",
    "\n",
    "iv. Compute the validation set error, which is the fraction of the observations in the validation set that are misclassified.\n",
    "\n",
    "Your code:"
   ]
  },
  {
   "cell_type": "code",
   "execution_count": 32,
   "id": "1b9bbe22",
   "metadata": {
    "Rmd_chunk_options": "echo=TRUE",
    "kernel": "Python3",
    "tags": [
     "report_cell"
    ]
   },
   "outputs": [
    {
     "data": {
      "text/plain": [
       "0.9712"
      ]
     },
     "execution_count": 32,
     "metadata": {},
     "output_type": "execute_result"
    }
   ],
   "source": [
    "# Compute the validation set error\n",
    "from sklearn.metrics import accuracy_score\n",
    "accuracy_score(y_validation, y_pred_binary)\n"
   ]
  },
  {
   "cell_type": "markdown",
   "id": "3ea2e7e5",
   "metadata": {},
   "source": [
    "\n",
    "\n",
    "\n",
    "(c) Repeat the process in (b) three times, using three different splits of the observations into a training set and a validation set. Comment on the results obtained.\n",
    "\n",
    "\n",
    "Your code:"
   ]
  },
  {
   "cell_type": "code",
   "execution_count": 36,
   "id": "021da8ff",
   "metadata": {
    "Rmd_chunk_options": "echo=TRUE",
    "kernel": "Python3",
    "tags": [
     "report_cell"
    ]
   },
   "outputs": [
    {
     "name": "stdout",
     "output_type": "stream",
     "text": [
      "Optimization terminated successfully.\n",
      "         Current function value: 0.080632\n",
      "         Iterations 10\n",
      "4999.026\n"
     ]
    }
   ],
   "source": [
    "# Using the validation set approach\n",
    "#Split into a training set and a validation set\n",
    "train, validation = train_test_split(Default, test_size=0.5)\n",
    "X = train[['income', 'balance']]\n",
    "X = sm.add_constant(X, prepend=True)\n",
    "y = train['default']\n",
    "\n",
    "model = Logit(y, X)\n",
    "result = model.fit()\n",
    "\n",
    "X_val = validation[['income', 'balance']]\n",
    "X_val = sm.add_constant(X_val, prepend=True)\n",
    "predictions = result.predict(X_val) > 0.5\n",
    "\n",
    "print(len(validation['default'])-np.sum(predictions == validation['default'])/len(validation['default']))"
   ]
  },
  {
   "cell_type": "markdown",
   "id": "c2108a59",
   "metadata": {},
   "source": [
    "\n",
    "\n",
    "\n",
    "(d) Now consider a logistic regression model that predicts the probability of default using income, balance, and a dummy variable for student. Estimate the test error for this model using the validation set approach. Comment on whether or not including a dummy variable for student leads to a reduction in the test error rate.\n",
    "\n",
    "\n",
    "Your code:"
   ]
  },
  {
   "cell_type": "code",
   "execution_count": 37,
   "id": "0087016a",
   "metadata": {
    "Rmd_chunk_options": "echo=TRUE",
    "kernel": "Python3",
    "tags": [
     "report_cell"
    ]
   },
   "outputs": [
    {
     "name": "stdout",
     "output_type": "stream",
     "text": [
      "Optimization terminated successfully.\n",
      "         Current function value: 0.080211\n",
      "         Iterations 10\n",
      "                           Logit Regression Results                           \n",
      "==============================================================================\n",
      "Dep. Variable:                default   No. Observations:                 5000\n",
      "Model:                          Logit   Df Residuals:                     4996\n",
      "Method:                           MLE   Df Model:                            3\n",
      "Date:                Sat, 03 Feb 2024   Pseudo R-squ.:                  0.4594\n",
      "Time:                        11:05:16   Log-Likelihood:                -401.05\n",
      "converged:                       True   LL-Null:                       -741.91\n",
      "Covariance Type:            nonrobust   LLR p-value:                1.931e-147\n",
      "==============================================================================\n",
      "                 coef    std err          z      P>|z|      [0.025      0.975]\n",
      "------------------------------------------------------------------------------\n",
      "const        -10.6496      0.676    -15.743      0.000     -11.976      -9.324\n",
      "income      5.377e-06   1.15e-05      0.469      0.639   -1.71e-05    2.79e-05\n",
      "balance        0.0056      0.000     17.891      0.000       0.005       0.006\n",
      "student       -0.7097      0.332     -2.136      0.033      -1.361      -0.059\n",
      "==============================================================================\n",
      "\n",
      "Possibly complete quasi-separation: A fraction 0.13 of observations can be\n",
      "perfectly predicted. This might indicate that there is complete\n",
      "quasi-separation. In this case some parameters will not be identified.\n",
      "4999.0268\n"
     ]
    }
   ],
   "source": [
    "# Using the validation set approach\n",
    "\n",
    "train, validation = train_test_split(Default, test_size=0.5)\n",
    "X = train[['income', 'balance', 'student']]\n",
    "X = sm.add_constant(X, prepend=True)\n",
    "y = train['default']\n",
    "\n",
    "model = Logit(y, X)\n",
    "result = model.fit()\n",
    "print(result.summary())\n",
    "X_val = validation[['income', 'balance', 'student']]\n",
    "X_val = sm.add_constant(X_val, prepend=True)\n",
    "predictions = result.predict(X_val) > 0.5\n",
    "print(len(validation['default'])-np.sum(predictions == validation['default'])/len(validation['default']))\n"
   ]
  },
  {
   "cell_type": "markdown",
   "id": "5eb2e117",
   "metadata": {},
   "source": [
    "### Default 2\n",
    "\n",
    "We continue to consider the use of a logistic regression model to\n",
    "predict the probability of default using income and balance on the\n",
    "Default data set. In particular, we will now compute estimates for the\n",
    "standard errors of the income and balance logistic regression coefficients\n",
    "in two different ways: (1) using the bootstrap, and (2) using the\n",
    "standard formula for computing the standard errors in the sm.GLM()\n",
    "function. Do not forget to set a random seed before beginning your\n",
    "analysis.\n",
    "\n",
    "(a) Using the `summarize()` and `sm.GLM()` functions, determine the\n",
    "estimated standard errors for the coefficients associated with\n",
    "income and balance in a multiple logistic regression model that\n",
    "uses both predictors.\n",
    "Your code:"
   ]
  },
  {
   "cell_type": "code",
   "execution_count": 38,
   "id": "c9e48b55",
   "metadata": {
    "Rmd_chunk_options": "echo=TRUE",
    "kernel": "Python3",
    "tags": [
     "report_cell"
    ]
   },
   "outputs": [
    {
     "name": "stdout",
     "output_type": "stream",
     "text": [
      "                 Generalized Linear Model Regression Results                  \n",
      "==============================================================================\n",
      "Dep. Variable:                default   No. Observations:                10000\n",
      "Model:                            GLM   Df Residuals:                     9998\n",
      "Model Family:                Binomial   Df Model:                            1\n",
      "Link Function:                  Logit   Scale:                          1.0000\n",
      "Method:                          IRLS   Log-Likelihood:                -1734.6\n",
      "Date:                Sat, 03 Feb 2024   Deviance:                       3469.1\n",
      "Time:                        11:07:44   Pearson chi2:                 3.87e+04\n",
      "No. Iterations:                     7   Pseudo R-squ. (CS):           -0.05638\n",
      "Covariance Type:            nonrobust                                         \n",
      "==============================================================================\n",
      "                 coef    std err          z      P>|z|      [0.025      0.975]\n",
      "------------------------------------------------------------------------------\n",
      "income        -0.0001    3.7e-06    -34.025      0.000      -0.000      -0.000\n",
      "balance        0.0004   7.03e-05      5.797      0.000       0.000       0.001\n",
      "==============================================================================\n"
     ]
    }
   ],
   "source": [
    "X = Default[['income', 'balance']]\n",
    "y = Default['default']\n",
    "model = Logit(y, X)\n",
    "# Using the `summarize()` and `sm.GLM()` functions\n",
    "from ISLP.models import summarize\n",
    "from statsmodels.genmod.generalized_linear_model import GLM\n",
    "from statsmodels.genmod.families import Binomial\n",
    "model = GLM(y, X, family=Binomial())\n",
    "result = model.fit()\n",
    "print(result.summary())\n"
   ]
  },
  {
   "cell_type": "markdown",
   "id": "7dabf728",
   "metadata": {},
   "source": [
    "\n",
    "\n",
    "\n",
    "(b) Write a function, `boot_fn()`, that takes as input the Default data\n",
    "set as well as an index of the observations, and that outputs\n",
    "the coefficient estimates for income and balance in the multiple\n",
    "logistic regression model.\n",
    "\n",
    "Your code:"
   ]
  },
  {
   "cell_type": "code",
   "execution_count": 55,
   "id": "150d3446",
   "metadata": {
    "Rmd_chunk_options": "echo=TRUE",
    "kernel": "Python3",
    "tags": [
     "report_cell"
    ]
   },
   "outputs": [
    {
     "name": "stdout",
     "output_type": "stream",
     "text": [
      "                 Generalized Linear Model Regression Results                  \n",
      "==============================================================================\n",
      "Dep. Variable:                default   No. Observations:                10000\n",
      "Model:                            GLM   Df Residuals:                     9998\n",
      "Model Family:                Binomial   Df Model:                            1\n",
      "Link Function:                  Logit   Scale:                          1.0000\n",
      "Method:                          IRLS   Log-Likelihood:                -1734.6\n",
      "Date:                Sat, 03 Feb 2024   Deviance:                       3469.1\n",
      "Time:                        11:24:06   Pearson chi2:                 3.87e+04\n",
      "No. Iterations:                     7   Pseudo R-squ. (CS):           -0.05638\n",
      "Covariance Type:            nonrobust                                         \n",
      "==============================================================================\n",
      "                 coef    std err          z      P>|z|      [0.025      0.975]\n",
      "------------------------------------------------------------------------------\n",
      "income        -0.0001    3.7e-06    -34.025      0.000      -0.000      -0.000\n",
      "balance        0.0004   7.03e-05      5.797      0.000       0.000       0.001\n",
      "==============================================================================\n"
     ]
    }
   ],
   "source": [
    "def boot_fn(df, index):\n",
    "\n",
    "  train = boot_fn(Default)\n",
    "  X = train[['income', 'balance']]\n",
    "  X = sm.add_constant(X, prepend=True)\n",
    "  y = train['default']\n",
    "  model = Logit(y, X)\n",
    "  result = model.fit()\n",
    "  return df.iloc[index]\n",
    "print(result.summary())"
   ]
  },
  {
   "cell_type": "markdown",
   "id": "d2d9f690",
   "metadata": {},
   "source": [
    "\n",
    "(c) Following the bootstrap example in the lab, use your `boot_fn()`\n",
    "function to estimate the standard errors of the logistic regression\n",
    "coefficients for income and balance.\n",
    "\n",
    "\n",
    "Your code:"
   ]
  },
  {
   "cell_type": "code",
   "execution_count": 57,
   "id": "771a1fca",
   "metadata": {
    "Rmd_chunk_options": "echo=TRUE",
    "kernel": "Python3",
    "tags": [
     "report_cell"
    ]
   },
   "outputs": [
    {
     "name": "stdout",
     "output_type": "stream",
     "text": [
      "0.4426568519478964\n",
      "4.802646587292736e-06\n",
      "0.00022715369016936985\n"
     ]
    }
   ],
   "source": [
    "import numpy as np\n",
    "import statsmodels.api as sm\n",
    "from statsmodels.discrete.discrete_model import Logit\n",
    "\n",
    "def boot_fn(df, index):\n",
    "    return df.iloc[index]\n",
    "\n",
    "B=1000\n",
    "intercept = []\n",
    "income = []\n",
    "balance = []\n",
    "for i in range(B):\n",
    "    index = np.random.choice(Default.index, size=len(Default), replace=True)\n",
    "    train = boot_fn(Default, index)\n",
    "    X = train[['income', 'balance']]\n",
    "    X = sm.add_constant(X, prepend=True)\n",
    "    y = train['default']\n",
    "    model = Logit(y, X)\n",
    "    result = model.fit(disp=False)\n",
    "    intercept.append(result.params.const)\n",
    "    income.append(result.params.income)\n",
    "    balance.append(result.params.balance)\n",
    "\n",
    "print(np.std(intercept, ddof=1))\n",
    "print(np.std(income, ddof=1))\n",
    "print(np.std(balance, ddof=1))\n"
   ]
  },
  {
   "cell_type": "markdown",
   "id": "8b9f2e13",
   "metadata": {},
   "source": [
    "\n",
    "\n",
    "\n",
    "(d) Comment on the estimated standard errors obtained using the `sm.GLM()` function and using the bootstrap.\n",
    "\n",
    "Your answer:\n",
    "\n",
    "~~~\n",
    "The estimated standard errors obtained using the `sm.GLM()` function and using the bootstrap are similar.\n",
    "~~~"
   ]
  },
  {
   "cell_type": "markdown",
   "id": "d8e99194",
   "metadata": {},
   "source": [
    "### Boston housing data set\n",
    "\n",
    "We will now consider the Boston housing data set, from the ISLR library."
   ]
  },
  {
   "cell_type": "code",
   "execution_count": 58,
   "id": "3e0c713d",
   "metadata": {
    "kernel": "Python3",
    "tags": [
     "report_cell"
    ]
   },
   "outputs": [],
   "source": [
    "Boston = load_data(\"Boston\")"
   ]
  },
  {
   "cell_type": "markdown",
   "id": "3478a17a",
   "metadata": {},
   "source": [
    "(a) Based on this data set, provide an estimate for the population mean of medv. Call this estimate $\\hat{\\mu}$.\n",
    "\n",
    "Your code:"
   ]
  },
  {
   "cell_type": "code",
   "execution_count": 59,
   "id": "7ac30b1b",
   "metadata": {
    "Rmd_chunk_options": "echo=TRUE",
    "kernel": "Python3",
    "tags": [
     "report_cell"
    ]
   },
   "outputs": [
    {
     "data": {
      "text/plain": [
       "22.532806324110677"
      ]
     },
     "execution_count": 59,
     "metadata": {},
     "output_type": "execute_result"
    }
   ],
   "source": [
    "Boston['medv'].mean()"
   ]
  },
  {
   "cell_type": "markdown",
   "id": "8c227ec3",
   "metadata": {},
   "source": [
    "\n",
    "\n",
    "\n",
    "(b) Provide an estimate of the standard error of $\\hat{\\mu}$. Interpret this result.\n",
    "Hint: We can compute the standard error of the sample mean by dividing the sample standard deviation by the square root of the number of observations.\n",
    "\n",
    "Your code:"
   ]
  },
  {
   "cell_type": "code",
   "execution_count": 60,
   "id": "1caaf8fc",
   "metadata": {
    "Rmd_chunk_options": "echo=TRUE",
    "kernel": "Python3",
    "tags": [
     "report_cell"
    ]
   },
   "outputs": [
    {
     "data": {
      "text/plain": [
       "0.40886114749753505"
      ]
     },
     "execution_count": 60,
     "metadata": {},
     "output_type": "execute_result"
    }
   ],
   "source": [
    "Boston['medv'].std()/len(Boston['medv'])**0.5"
   ]
  },
  {
   "cell_type": "markdown",
   "id": "3446e733",
   "metadata": {},
   "source": [
    "\n",
    "\n",
    "(c) Now estimate the standard error of $\\hat{\\mu}$ using the bootstrap. How does this compare to your answer from (b)?\n",
    "\n",
    "Your code:"
   ]
  },
  {
   "cell_type": "code",
   "execution_count": 62,
   "id": "0c0a9cbf",
   "metadata": {
    "Rmd_chunk_options": "echo=TRUE",
    "kernel": "Python3",
    "tags": [
     "report_cell"
    ]
   },
   "outputs": [
    {
     "name": "stdout",
     "output_type": "stream",
     "text": [
      "0.0\n"
     ]
    }
   ],
   "source": [
    "sample_means = np.empty(1000)\n",
    "for i in range(1000):\n",
    "    sample = Boston['medv'].sample(n=100, replace=True)\n",
    "    sample_means[i] = sample.mean()\n",
    "print(np.std(sample_means.mean()))"
   ]
  },
  {
   "cell_type": "markdown",
   "id": "4bf56fb8",
   "metadata": {},
   "source": [
    "\n",
    "\n",
    "(d) Based on your bootstrap estimate from (c), provide a 95 % confidence\n",
    "interval for the mean of medv. Compare it to the results\n",
    "obtained by using `Boston['medv'].std()` and the two standard\n",
    "error rule (3.9).\n",
    "Hint: You can approximate a 95% confidence interval using the formula $[\\hat{\\mu} − 2SE(\\hat{\\mu}), \\hat{\\mu} + 2SE(\\hat{\\mu})]$.\n",
    "\n",
    "Your code:"
   ]
  },
  {
   "cell_type": "code",
   "execution_count": 66,
   "id": "42286192",
   "metadata": {},
   "outputs": [
    {
     "name": "stdout",
     "output_type": "stream",
     "text": [
      "bootstrap [ 20.648930162805865 , 24.38666383719413 ]\n",
      "original [ 21.715084029115605 , 23.35052861910575 ]\n"
     ]
    }
   ],
   "source": [
    "print(\"bootstrap\",\"[\",np.mean(sample_means)-2*np.std(sample_means),\",\",np.mean(sample_means)+2*np.std(sample_means),\"]\")\n",
    "print(\"original\",\"[\",Boston['medv'].mean()-2*Boston['medv'].std()/(len(Boston)**0.5),\",\",Boston['medv'].mean()+2*Boston['medv'].std()/(len(Boston)**0.5),\"]\")\n"
   ]
  },
  {
   "cell_type": "markdown",
   "id": "d16a99c5",
   "metadata": {},
   "source": [
    "\n",
    "\n",
    "\n",
    "(e) Based on this data set, provide an estimate, $\\hat{\\mu}_{med}$, for the median value of medv in the population.\n",
    "\n",
    "Your code:"
   ]
  },
  {
   "cell_type": "code",
   "execution_count": null,
   "id": "9d847eb6",
   "metadata": {},
   "outputs": [],
   "source": [
    "Boston['medv'].median()"
   ]
  },
  {
   "cell_type": "markdown",
   "id": "927aa002",
   "metadata": {},
   "source": [
    "\n",
    "\n",
    "\n",
    "(f) We now would like to estimate the standard error of $\\hat{\\mu}_{med}$. Unfortunately, there is no simple formula for computing the standard error of the median. Instead, estimate the standard error of the median using the bootstrap. Comment on your findings.\n",
    "\n",
    "Your code:"
   ]
  },
  {
   "cell_type": "code",
   "execution_count": 33,
   "id": "0221e97a",
   "metadata": {
    "Rmd_chunk_options": "echo=TRUE",
    "kernel": "Python3",
    "tags": [
     "report_cell"
    ]
   },
   "outputs": [],
   "source": [
    "sample_medians = np.empty(1000)\n",
    "for i in range(1000):\n",
    "    sample = Boston['medv'].sample(n=100, replace=True)\n",
    "    sample_medians[i] = sample.median()\n",
    "print(sample_medians.mean())"
   ]
  },
  {
   "cell_type": "markdown",
   "id": "3f90e963",
   "metadata": {},
   "source": [
    "\n",
    "\n",
    "\n",
    "\n",
    "(g) Based on this data set, provide an estimate for the tenth percentile\n",
    "of medv in Boston census tracts. Call this quantity $\\hat{\\mu}_{0.1}$.\n",
    "(You can use the `np.percentile()` function.)\n",
    "\n",
    "Your code:"
   ]
  },
  {
   "cell_type": "code",
   "execution_count": 68,
   "id": "dca83bcb",
   "metadata": {
    "Rmd_chunk_options": "echo=TRUE",
    "kernel": "Python3",
    "tags": [
     "report_cell"
    ]
   },
   "outputs": [
    {
     "data": {
      "text/plain": [
       "12.75"
      ]
     },
     "execution_count": 68,
     "metadata": {},
     "output_type": "execute_result"
    }
   ],
   "source": [
    "\n",
    "Boston['medv'].quantile(q=0.1)\n"
   ]
  },
  {
   "cell_type": "markdown",
   "id": "3a298b56",
   "metadata": {},
   "source": [
    "\n",
    "\n",
    "\n",
    "(h) Use the bootstrap to estimate the standard error of $\\hat{\\mu}_{0.1}$. Comment on your findings.\n",
    "\n",
    "Your code:"
   ]
  },
  {
   "cell_type": "code",
   "execution_count": 69,
   "id": "56248d00",
   "metadata": {
    "Rmd_chunk_options": "echo=TRUE",
    "kernel": "Python3",
    "tags": [
     "report_cell"
    ]
   },
   "outputs": [
    {
     "name": "stdout",
     "output_type": "stream",
     "text": [
      "1.0876175463369466\n"
     ]
    }
   ],
   "source": [
    "sample_percentile = []\n",
    "for i in range(1000):\n",
    "    sample = Boston['medv'].sample(n=100, replace=True)\n",
    "    sample_percentile.append(sample.quantile(q=0.1))\n",
    "print(np.std(sample_percentile))"
   ]
  },
  {
   "cell_type": "markdown",
   "id": "8f8173b4",
   "metadata": {},
   "source": [
    "## Additional Material"
   ]
  },
  {
   "cell_type": "markdown",
   "id": "8a6174ae",
   "metadata": {},
   "source": [
    "### Cross Validation for Predictive Modeling Platforms in Python"
   ]
  },
  {
   "cell_type": "markdown",
   "id": "fcfdcf96",
   "metadata": {},
   "source": [
    "#### scikit-learn\n",
    "\n",
    "Using platforms like scikit-learn is helpful for things such as cross validation.\n",
    "There are variants of CV implemented to be used off the shelf\n",
    "https://scikit-learn.org/stable/modules/cross_validation.html\n",
    "\n",
    "There are many metrics you can choose from\n",
    "https://scikit-learn.org/stable/modules/model_evaluation.html#scoring-parameter"
   ]
  },
  {
   "cell_type": "code",
   "execution_count": 36,
   "id": "753aa0f5",
   "metadata": {
    "Rmd_chunk_options": "echo=TRUE",
    "kernel": "Python3",
    "tags": [
     "report_cell"
    ]
   },
   "outputs": [],
   "source": [
    "ames_raw_comp=ames_raw.loc[:,[\"SalePrice\",\"Gr Liv Area\",\"Lot Area\",\"Total Bsmt SF\"]].dropna()\n",
    "X=ames_raw_comp.loc[:,[\"Gr Liv Area\",\"Lot Area\",\"Total Bsmt SF\"]]\n",
    "y=ames_raw_comp.loc[:,\"SalePrice\"]\n",
    "from sklearn.model_selection import cross_val_score, cross_validate\n",
    "from sklearn import svm\n",
    "from sklearn.linear_model import LinearRegression\n",
    "clf =  LinearRegression()\n",
    "## One metric\n",
    "scores = cross_val_score(clf, X, y, cv=5,scoring=\"r2\")\n",
    "## Multiple metrics\n",
    "scoring = ['r2', 'max_error']\n",
    "scores = cross_validate(clf, X, y, scoring=scoring)"
   ]
  },
  {
   "cell_type": "markdown",
   "id": "e01a97f2",
   "metadata": {},
   "source": [
    "#### PySpark\n",
    "\n",
    "[Apache Spark](https://spark.apache.org/docs/3.1.3/api/python/index.html) is a popular large data handling platform.  Over the years, they built Machine Learning capabilities in MLlib."
   ]
  },
  {
   "cell_type": "code",
   "execution_count": 37,
   "id": "ec5ea774",
   "metadata": {
    "Rmd_chunk_options": "eval=FALSE, echo=TRUE",
    "kernel": "Python3",
    "tags": [
     "report_cell"
    ]
   },
   "outputs": [],
   "source": [
    "import pyspark\n",
    "from pyspark.sql import SparkSession\n",
    "from pyspark.ml.classification import LogisticRegression\n",
    "from pyspark.ml.evaluation import BinaryClassificationEvaluator\n",
    "from pyspark.ml.linalg import Vectors\n",
    "from pyspark.ml.tuning import CrossValidator, ParamGridBuilder, CrossValidatorModel\n",
    "import tempfile"
   ]
  },
  {
   "cell_type": "code",
   "execution_count": 38,
   "id": "77e1579c",
   "metadata": {
    "Rmd_chunk_options": "eval=FALSE, echo=TRUE",
    "kernel": "Python3",
    "tags": [
     "report_cell"
    ]
   },
   "outputs": [
    {
     "name": "stderr",
     "output_type": "stream",
     "text": [
      "Setting default log level to \"WARN\".\n",
      "To adjust logging level use sc.setLogLevel(newLevel). For SparkR, use setLogLevel(newLevel).\n",
      "24/01/11 21:04:13 WARN NativeCodeLoader: Unable to load native-hadoop library for your platform... using builtin-java classes where applicable\n"
     ]
    }
   ],
   "source": [
    "spark = SparkSession.builder.appName(\"CV_test\").getOrCreate()"
   ]
  },
  {
   "cell_type": "code",
   "execution_count": 39,
   "id": "80457b98",
   "metadata": {
    "Rmd_chunk_options": "eval=FALSE, echo=TRUE",
    "kernel": "Python3",
    "tags": [
     "report_cell"
    ]
   },
   "outputs": [
    {
     "name": "stderr",
     "output_type": "stream",
     "text": [
      "24/01/11 21:04:28 WARN InstanceBuilder: Failed to load implementation from:dev.ludovic.netlib.blas.JNIBLAS\n",
      "                                                                                \r"
     ]
    },
    {
     "data": {
      "text/plain": [
       "0.8333333333333333"
      ]
     },
     "execution_count": 39,
     "metadata": {},
     "output_type": "execute_result"
    }
   ],
   "source": [
    "dataset = spark.createDataFrame(\n",
    "    [(Vectors.dense([0.0]), 0.0),\n",
    "     (Vectors.dense([0.4]), 1.0),\n",
    "     (Vectors.dense([0.5]), 0.0),\n",
    "     (Vectors.dense([0.6]), 1.0),\n",
    "     (Vectors.dense([1.0]), 1.0)] * 10,\n",
    "    [\"features\", \"label\"])\n",
    "lr = LogisticRegression()\n",
    "grid = ParamGridBuilder().addGrid(lr.maxIter, [0, 1]).build()\n",
    "evaluator = BinaryClassificationEvaluator()\n",
    "cv = CrossValidator(estimator=lr, estimatorParamMaps=grid, evaluator=evaluator,\n",
    "    parallelism=2)\n",
    "cvModel = cv.fit(dataset)\n",
    "cvModel.getNumFolds()\n",
    "cvModel.avgMetrics[0]\n",
    "evaluator.evaluate(cvModel.transform(dataset))"
   ]
  },
  {
   "cell_type": "code",
   "execution_count": 40,
   "id": "0b8bf62f",
   "metadata": {
    "Rmd_chunk_options": "eval=FALSE, echo=TRUE",
    "kernel": "Python3",
    "tags": [
     "report_cell"
    ]
   },
   "outputs": [],
   "source": [
    "spark.stop()"
   ]
  },
  {
   "cell_type": "markdown",
   "id": "bc5ae714",
   "metadata": {},
   "source": [
    "#### Resampling  using h2o\n",
    "\n",
    "On H2O cross validation is embedded in the function calling so you don't need to worry about learning a new wrapper on top of your estimator.\n",
    "https://docs.h2o.ai/h2o/latest-stable/h2o-docs/cross-validation.html"
   ]
  },
  {
   "cell_type": "code",
   "execution_count": 41,
   "id": "23d989a8",
   "metadata": {
    "Rmd_chunk_options": "eval=FALSE, echo=TRUE",
    "kernel": "Python3",
    "tags": [
     "report_cell"
    ]
   },
   "outputs": [],
   "source": [
    "#pip install requests\n",
    "#pip install tabulate\n",
    "#pip uninstall h2o\n",
    "#pip install -f http://h2o-release.s3.amazonaws.com/h2o/latest_stable_Py.html h2o\n",
    "# load packages and data\n",
    "import h2o\n",
    "from h2o.estimators.glm import H2OGeneralizedLinearEstimator"
   ]
  },
  {
   "cell_type": "markdown",
   "id": "6f467085",
   "metadata": {},
   "source": [
    "##### Starting H2O\n",
    "\n",
    "To use H2O you need to instantiate it."
   ]
  },
  {
   "cell_type": "code",
   "execution_count": 42,
   "id": "3145b8ef",
   "metadata": {
    "Rmd_chunk_options": "eval=FALSE, echo=TRUE",
    "kernel": "Python3",
    "tags": [
     "report_cell"
    ]
   },
   "outputs": [
    {
     "name": "stdout",
     "output_type": "stream",
     "text": [
      "Checking whether there is an H2O instance running at http://localhost:54321..... not found.\n",
      "Attempting to start a local H2O server...\n",
      "  Java Version: java version \"1.8.0_361\"; Java(TM) SE Runtime Environment (build 1.8.0_361-b09); Java HotSpot(TM) 64-Bit Server VM (build 25.361-b09, mixed mode)\n",
      "  Starting server from /opt/homebrew/lib/python3.11/site-packages/h2o/backend/bin/h2o.jar\n",
      "  Ice root: /var/folders/r8/_9frrgnx0rq_kt6_r0yvgwlc0000gn/T/tmpbl2r93zb\n",
      "  JVM stdout: /var/folders/r8/_9frrgnx0rq_kt6_r0yvgwlc0000gn/T/tmpbl2r93zb/h2o_masanaoyajima_started_from_python.out\n",
      "  JVM stderr: /var/folders/r8/_9frrgnx0rq_kt6_r0yvgwlc0000gn/T/tmpbl2r93zb/h2o_masanaoyajima_started_from_python.err\n",
      "  Server is running at http://127.0.0.1:54321\n",
      "Connecting to H2O server at http://127.0.0.1:54321 ... successful.\n"
     ]
    },
    {
     "data": {
      "text/html": [
       "\n",
       "<style>\n",
       "\n",
       "#h2o-table-1.h2o-container {\n",
       "  overflow-x: auto;\n",
       "}\n",
       "#h2o-table-1 .h2o-table {\n",
       "  /* width: 100%; */\n",
       "  margin-top: 1em;\n",
       "  margin-bottom: 1em;\n",
       "}\n",
       "#h2o-table-1 .h2o-table caption {\n",
       "  white-space: nowrap;\n",
       "  caption-side: top;\n",
       "  text-align: left;\n",
       "  /* margin-left: 1em; */\n",
       "  margin: 0;\n",
       "  font-size: larger;\n",
       "}\n",
       "#h2o-table-1 .h2o-table thead {\n",
       "  white-space: nowrap; \n",
       "  position: sticky;\n",
       "  top: 0;\n",
       "  box-shadow: 0 -1px inset;\n",
       "}\n",
       "#h2o-table-1 .h2o-table tbody {\n",
       "  overflow: auto;\n",
       "}\n",
       "#h2o-table-1 .h2o-table th,\n",
       "#h2o-table-1 .h2o-table td {\n",
       "  text-align: right;\n",
       "  /* border: 1px solid; */\n",
       "}\n",
       "#h2o-table-1 .h2o-table tr:nth-child(even) {\n",
       "  /* background: #F5F5F5 */\n",
       "}\n",
       "\n",
       "</style>      \n",
       "<div id=\"h2o-table-1\" class=\"h2o-container\">\n",
       "  <table class=\"h2o-table\">\n",
       "    <caption></caption>\n",
       "    <thead></thead>\n",
       "    <tbody><tr><td>H2O_cluster_uptime:</td>\n",
       "<td>03 secs</td></tr>\n",
       "<tr><td>H2O_cluster_timezone:</td>\n",
       "<td>America/New_York</td></tr>\n",
       "<tr><td>H2O_data_parsing_timezone:</td>\n",
       "<td>UTC</td></tr>\n",
       "<tr><td>H2O_cluster_version:</td>\n",
       "<td>3.44.0.3</td></tr>\n",
       "<tr><td>H2O_cluster_version_age:</td>\n",
       "<td>22 days</td></tr>\n",
       "<tr><td>H2O_cluster_name:</td>\n",
       "<td>H2O_from_python_masanaoyajima_gs7xs1</td></tr>\n",
       "<tr><td>H2O_cluster_total_nodes:</td>\n",
       "<td>1</td></tr>\n",
       "<tr><td>H2O_cluster_free_memory:</td>\n",
       "<td>3.529 Gb</td></tr>\n",
       "<tr><td>H2O_cluster_total_cores:</td>\n",
       "<td>10</td></tr>\n",
       "<tr><td>H2O_cluster_allowed_cores:</td>\n",
       "<td>10</td></tr>\n",
       "<tr><td>H2O_cluster_status:</td>\n",
       "<td>locked, healthy</td></tr>\n",
       "<tr><td>H2O_connection_url:</td>\n",
       "<td>http://127.0.0.1:54321</td></tr>\n",
       "<tr><td>H2O_connection_proxy:</td>\n",
       "<td>{\"http\": null, \"https\": null}</td></tr>\n",
       "<tr><td>H2O_internal_security:</td>\n",
       "<td>False</td></tr>\n",
       "<tr><td>Python_version:</td>\n",
       "<td>3.11.3 final</td></tr></tbody>\n",
       "  </table>\n",
       "</div>\n"
      ],
      "text/plain": [
       "--------------------------  ------------------------------------\n",
       "H2O_cluster_uptime:         03 secs\n",
       "H2O_cluster_timezone:       America/New_York\n",
       "H2O_data_parsing_timezone:  UTC\n",
       "H2O_cluster_version:        3.44.0.3\n",
       "H2O_cluster_version_age:    22 days\n",
       "H2O_cluster_name:           H2O_from_python_masanaoyajima_gs7xs1\n",
       "H2O_cluster_total_nodes:    1\n",
       "H2O_cluster_free_memory:    3.529 Gb\n",
       "H2O_cluster_total_cores:    10\n",
       "H2O_cluster_allowed_cores:  10\n",
       "H2O_cluster_status:         locked, healthy\n",
       "H2O_connection_url:         http://127.0.0.1:54321\n",
       "H2O_connection_proxy:       {\"http\": null, \"https\": null}\n",
       "H2O_internal_security:      False\n",
       "Python_version:             3.11.3 final\n",
       "--------------------------  ------------------------------------"
      ]
     },
     "metadata": {},
     "output_type": "display_data"
    }
   ],
   "source": [
    "# nthreads specifies number of threads. -1 means use all the CPU cores.\n",
    "# max_mem_size specifies the maximum amount of RAM to use.\n",
    "localH2O= h2o.init(nthreads = -1, max_mem_size=\"4g\")"
   ]
  },
  {
   "cell_type": "markdown",
   "id": "b1b35a63",
   "metadata": {},
   "source": [
    "##### CV with  H2O"
   ]
  },
  {
   "cell_type": "code",
   "execution_count": 43,
   "id": "70d69efa",
   "metadata": {
    "Rmd_chunk_options": "eval=FALSE, echo=TRUE",
    "kernel": "Python3",
    "tags": [
     "report_cell"
    ]
   },
   "outputs": [
    {
     "name": "stdout",
     "output_type": "stream",
     "text": [
      "Parse progress: |████████████████████████████████████████████████████████████████| (done) 100%\n",
      "glm Model Build progress: |██████████████████████████████████████████████████████| (done) 100%\n"
     ]
    },
    {
     "data": {
      "text/plain": [
       "0.7790697716207187"
      ]
     },
     "execution_count": 43,
     "metadata": {},
     "output_type": "execute_result"
    }
   ],
   "source": [
    "# Import the prostate dataset\n",
    "prostate = h2o.import_file(\"http://s3.amazonaws.com/h2o-public-test-data/smalldata/prostate/prostate.csv.zip\")\n",
    "\n",
    "# Set the predictor names and the response column name\n",
    "response = \"CAPSULE\"\n",
    "predictors = prostate.names[3:8]\n",
    "\n",
    "# Convert the response column to a factor\n",
    "prostate['CAPSULE'] = prostate['CAPSULE'].asfactor()\n",
    "\n",
    "# Train a GBM model setting nfolds to 5\n",
    "prostate_gbm = H2OGeneralizedLinearEstimator(nfolds = 5, seed = 1)\n",
    "prostate_gbm.train(x=predictors, y=response, training_frame=prostate)\n",
    "\n",
    "# AUC of cross-validated holdout predictions\n",
    "prostate_gbm.auc(xval=True)"
   ]
  },
  {
   "cell_type": "markdown",
   "id": "0515ba8c",
   "metadata": {},
   "source": [
    "##### Shut down H2O"
   ]
  },
  {
   "cell_type": "code",
   "execution_count": 44,
   "id": "83132202",
   "metadata": {
    "Rmd_chunk_options": "eval=FALSE, echo=TRUE",
    "kernel": "Python3",
    "tags": [
     "report_cell"
    ]
   },
   "outputs": [
    {
     "name": "stdout",
     "output_type": "stream",
     "text": [
      "H2O session _sid_8dc7 closed.\n"
     ]
    }
   ],
   "source": [
    "h2o.cluster().shutdown(prompt =False)"
   ]
  }
 ],
 "metadata": {
  "Rmd_chunk_options": {
   "author": "Your Name Here",
   "date": "2024-1-30",
   "output": "html_document",
   "title": "Resampling"
  },
  "kernelspec": {
   "display_name": "Python 3 (ipykernel)",
   "language": "python",
   "name": "python3"
  },
  "language_info": {
   "codemirror_mode": {
    "name": "ipython",
    "version": 3
   },
   "file_extension": ".py",
   "mimetype": "text/x-python",
   "name": "python",
   "nbconvert_exporter": "python",
   "pygments_lexer": "ipython3",
   "version": "3.11.7"
  },
  "sos": {
   "kernels": [
    [
     "SoS",
     "sos",
     "",
     ""
    ],
    [
     "R",
     "ir",
     "",
     ""
    ],
    [
     "css",
     "css",
     "",
     ""
    ],
    [
     "Python3",
     "ir",
     "",
     ""
    ]
   ]
  }
 },
 "nbformat": 4,
 "nbformat_minor": 5
}
